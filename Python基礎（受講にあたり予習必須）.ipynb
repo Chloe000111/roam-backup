{
  "nbformat": 4,
  "nbformat_minor": 0,
  "metadata": {
    "kernelspec": {
      "display_name": "Python 3",
      "language": "python",
      "name": "python3"
    },
    "language_info": {
      "codemirror_mode": {
        "name": "ipython",
        "version": 3
      },
      "file_extension": ".py",
      "mimetype": "text/x-python",
      "name": "python",
      "nbconvert_exporter": "python",
      "pygments_lexer": "ipython3",
      "version": "3.7.6"
    },
    "colab": {
      "name": "Python基礎（受講にあたり予習必須）.ipynb",
      "provenance": [],
      "include_colab_link": true
    }
  },
  "cells": [
    {
      "cell_type": "markdown",
      "metadata": {
        "id": "view-in-github",
        "colab_type": "text"
      },
      "source": [
        "<a href=\"https://colab.research.google.com/github/Chloe000111/roam-backup/blob/master/Python%E5%9F%BA%E7%A4%8E%EF%BC%88%E5%8F%97%E8%AC%9B%E3%81%AB%E3%81%82%E3%81%9F%E3%82%8A%E4%BA%88%E7%BF%92%E5%BF%85%E9%A0%88%EF%BC%89.ipynb\" target=\"_parent\"><img src=\"https://colab.research.google.com/assets/colab-badge.svg\" alt=\"Open In Colab\"/></a>"
      ]
    },
    {
      "cell_type": "markdown",
      "metadata": {
        "id": "R7jGEUQydwF0"
      },
      "source": [
        "# Python基礎"
      ]
    },
    {
      "cell_type": "markdown",
      "metadata": {
        "id": "Sco9oMvUdwF4"
      },
      "source": [
        "この講座ではPythonというプログラミング言語を使ってデータ分析を行います。その準備として、このChapterではPythonの基礎文法を学んでいきます。プログラミング未経験者・初心者の人は、このChapterを通してプログラミングというものに少しずつ慣れていきましょう。"
      ]
    },
    {
      "cell_type": "markdown",
      "metadata": {
        "id": "UjmF1gXhdwF5"
      },
      "source": [
        "### 目次\n",
        "\n",
        "**[1.1 プログラミング入門](#1.1-プログラミング入門)**  \n",
        "> [1.1.1 概論](#1.1.1-概論)  \n",
        "> [1.1.2 プログラミングの進め方](#1.1.2-プログラミングの進め方)  \n",
        "> [1.1.3 コメント](#1.1.3-コメント)  \n",
        "> [1.1.4 エラーへの対処方法](#1.1.4-エラーへの対処方法)  \n",
        "\n",
        "**[1.2 Python文法(基礎)](#1.2-Python文法(基礎))**  \n",
        "> [1.2.1 演算](#1.2.1-演算)  \n",
        "> [1.2.2 変数](#1.2.2-変数)  \n",
        "> [1.2.3 プログラムの評価](#1.2.3-プログラムの評価)  \n",
        "> [1.2.4 条件分岐](#1.2.4-条件分岐)  \n",
        "> [1.2.5 ループ](#1.2.5-ループ)  \n",
        "> [1.2.6 関数](#1.2.6-関数)  \n",
        "> [1.2.7 データ型](#1.2.7-データ型)  \n",
        "> [1.2.8 練習問題](#1.2.8-練習問題)  \n",
        "\n",
        "\n",
        "**[1.3 Python文法(発展)](#1.3-Python文法(発展))**\n",
        "> [1.3.1 クラス](#1.3.1-クラス)  \n",
        "> [1.3.2 モジュール・ライブラリ](#1.3.2-モジュール・ライブラリ)  \n",
        "\n",
        "**[1.4 総合問題](#1.4-総合問題)**"
      ]
    },
    {
      "cell_type": "markdown",
      "metadata": {
        "id": "efJG8YzRdwF6"
      },
      "source": [
        "## 1.1 プログラミング入門"
      ]
    },
    {
      "cell_type": "markdown",
      "metadata": {
        "id": "RnmbEfvidwF6"
      },
      "source": [
        "### 1.1.1 概論"
      ]
    },
    {
      "cell_type": "markdown",
      "metadata": {
        "id": "uCljDLaodwF6"
      },
      "source": [
        "**プログラミング**とは、「ある目的のためにプログラム(コンピュータに対する命令を並べたもの)を設計・構築する」プロセスのことを言います。もう少し簡単に言えば、「ある計算を行う手順を記述する」のがプログラミングです。\n",
        "\n",
        "例えば、2と3の和を求めるとき、下のようなプログラムを書いて実行することでその答えを知ることができます。単純な例ですが、これも立派なプログラムです。"
      ]
    },
    {
      "cell_type": "markdown",
      "metadata": {
        "id": "YgObPDSIdwF7"
      },
      "source": [
        "```python\n",
        "2 + 3\n",
        "```"
      ]
    },
    {
      "cell_type": "markdown",
      "metadata": {
        "id": "DSemi5uSdwF8"
      },
      "source": [
        "より複雑な例として、1から10までの和を求めるプログラムを以下に示します。(詳細については以降の節で学びます。)"
      ]
    },
    {
      "cell_type": "markdown",
      "metadata": {
        "id": "kkX47CLAdwF8"
      },
      "source": [
        "```python\n",
        "s = 0\n",
        "for n in range(1,11):\n",
        "    s = s + n\n",
        "s\n",
        "```"
      ]
    },
    {
      "cell_type": "markdown",
      "metadata": {
        "id": "kAPn_0P1dwF9"
      },
      "source": [
        "プログラミングをするときには何らかの**プログラミング言語**を使用します。プログラミング言語には「Aというプログラムを書くとBという処理が行われる」というような規則が定められています。これを**文法**と言いますが、文法は使用するプログラミング言語によって異なります。プログラミングの学習は、この文法を知ることから始まります。\n",
        "\n",
        "データ分析・機械学習のためのツールが豊富に揃っているという理由で、この講座ではPythonという言語を使ってプログラミングをしていきます。実際、その領域でPythonを使っている人はとても多いです。またPythonはプログラミング初学者にとって比較的わかりやすい言語であり、学習コストが低いのも魅力の1つです。ということで、このChapterではPythonの基礎文法を学んでいきます。"
      ]
    },
    {
      "cell_type": "markdown",
      "metadata": {
        "id": "lyS6nsPAdwF9"
      },
      "source": [
        "### 1.1.2 プログラミングの進め方"
      ]
    },
    {
      "cell_type": "markdown",
      "metadata": {
        "id": "pYV_NFk2dwF9"
      },
      "source": [
        "これから実際にPythonでプログラミングをしていきますが、その進め方について簡単に説明します。\n",
        "このファイルを読むために**Jupyter Notebook**(やそれに類するツール)を利用していると思います。Jupyter NotebookはPythonの実行環境を提供しており、**セル**と呼ばれるボックスにPythonプログラムを書いてShift + Enterを押すことで実行することができます。\n",
        "\n",
        "セルにはいくつかの種類がありますが、そのうちプログラムを実行するためのセルが**Codeセル**です。コードセルの左側には`In[n]`といった表示が出ています。プログラムを書いて実行すると`Out[n]`といった表示の横にその実行結果が表示されます。\n",
        "\n",
        "ノートブックにはメモを残すこともできます。そのためのセルが**Markdownセル(Textセル)**です。Markdown記法を用いることで見栄えの良いテキストを作成することができます。"
      ]
    },
    {
      "cell_type": "markdown",
      "metadata": {
        "id": "xONP818sdwF-"
      },
      "source": [
        "では、先ほどのプログラムを実行してみましょう。正しい実行結果が返ってきたらOKです。"
      ]
    },
    {
      "cell_type": "code",
      "metadata": {
        "colab": {
          "base_uri": "https://localhost:8080/"
        },
        "id": "F-tpL8oDdwF-",
        "outputId": "d1be0913-eb9a-410d-93b4-93a9228eaedc"
      },
      "source": [
        "2 + 3"
      ],
      "execution_count": 1,
      "outputs": [
        {
          "output_type": "execute_result",
          "data": {
            "text/plain": [
              "5"
            ]
          },
          "metadata": {},
          "execution_count": 1
        }
      ]
    },
    {
      "cell_type": "code",
      "metadata": {
        "colab": {
          "base_uri": "https://localhost:8080/"
        },
        "id": "Ie2XR-A4dwF_",
        "outputId": "bcb917b5-b787-4572-fb87-5b8714f60141"
      },
      "source": [
        "s = 0\n",
        "for n in range(1,11):\n",
        "    s = s + n\n",
        "s"
      ],
      "execution_count": 2,
      "outputs": [
        {
          "output_type": "execute_result",
          "data": {
            "text/plain": [
              "55"
            ]
          },
          "metadata": {},
          "execution_count": 2
        }
      ]
    },
    {
      "cell_type": "markdown",
      "metadata": {
        "id": "q0kRCDUDdwF_"
      },
      "source": [
        "### 1.1.3 コメント"
      ]
    },
    {
      "cell_type": "markdown",
      "metadata": {
        "id": "2wI9TytBdwF_"
      },
      "source": [
        "Jupyter Notebook以外にも、Pythonの実行環境は様々あります。例えばPythonのインタラクティブシェルは入力されたプログラムに対してその実行結果を返しますが、基本的に入力プログラムや出力結果を保存しないため、シェルを閉じると内容が消えてしまいます。それに対してJupyter Notebookはプログラムとその実行結果をともに保存しておけるので、ノートブックを閉じても問題ありません。\n",
        "\n",
        "しかし、プログラムが残っていたとしてもその意味がわからなくなることがあるかもしれません。プログラムを書く際には適度にメモを残していくことで、後で見返したときに役立ちます。多くのプログラミング言語ではプログラムに**コメント**をつけることができ、コメントとして書いた部分はプログラム実行のときに無視されるようになっています。\n",
        "\n",
        "Pythonでは`#`の右側部分がコメントとみなされます。例で確認してみましょう。"
      ]
    },
    {
      "cell_type": "code",
      "metadata": {
        "id": "OZWj3MWLdwGA"
      },
      "source": [
        "# コメント\n",
        "2 + 3 # コメント\n",
        "# コメント"
      ],
      "execution_count": null,
      "outputs": []
    },
    {
      "cell_type": "markdown",
      "metadata": {
        "id": "2Geqr5-SdwGA"
      },
      "source": [
        "### 1.1.4 エラーへの対処方法"
      ]
    },
    {
      "cell_type": "markdown",
      "metadata": {
        "id": "a8_EoBj-dwGA"
      },
      "source": [
        "プログラミングには**エラー**がつきものです。文法に則らないプログラムを書いたり、何らかの不正な処理をしたりしたときにエラーが発生します。エラーが発生すると、その場所でプログラムの実行が停止し、どの部分でどのような原因でエラーが生じたかがエラーメッセージとして表示されます。これからたくさんのエラーに遭遇すると思いますが、まずはエラーメッセージを解読するよう努めましょう。もしその意味が分からなければ、インターネットで検索してみましょう。同様のエラーで苦しんだ人が必ずいるはずです。"
      ]
    },
    {
      "cell_type": "markdown",
      "metadata": {
        "id": "Y7Pe9pRndwGA"
      },
      "source": [
        "## 1.2 Python文法(基礎)"
      ]
    },
    {
      "cell_type": "markdown",
      "metadata": {
        "id": "pYFPfBN2dwGB"
      },
      "source": [
        "### 1.2.1 演算"
      ]
    },
    {
      "cell_type": "markdown",
      "metadata": {
        "id": "LLYDh1-ZdwGB"
      },
      "source": [
        "まずは算術演算から始めましょう。加算、減算については数学の記号と同様ですが、乗算、除算についてはプログラミング言語に特有な記号を使います。(これは多くの言語で共通しています。)"
      ]
    },
    {
      "cell_type": "code",
      "metadata": {
        "colab": {
          "base_uri": "https://localhost:8080/"
        },
        "id": "S6WlARwudwGB",
        "outputId": "b9399151-06d1-4755-c0f9-bfd3e6392143"
      },
      "source": [
        "# 加算\n",
        "6 + 3"
      ],
      "execution_count": 3,
      "outputs": [
        {
          "output_type": "execute_result",
          "data": {
            "text/plain": [
              "9"
            ]
          },
          "metadata": {},
          "execution_count": 3
        }
      ]
    },
    {
      "cell_type": "code",
      "metadata": {
        "colab": {
          "base_uri": "https://localhost:8080/"
        },
        "id": "P2kOl5XQdwGB",
        "outputId": "6b3b3f66-6415-4e9c-942c-7124480513e5"
      },
      "source": [
        "# 減算\n",
        "6 - 3"
      ],
      "execution_count": 4,
      "outputs": [
        {
          "output_type": "execute_result",
          "data": {
            "text/plain": [
              "3"
            ]
          },
          "metadata": {},
          "execution_count": 4
        }
      ]
    },
    {
      "cell_type": "code",
      "metadata": {
        "colab": {
          "base_uri": "https://localhost:8080/"
        },
        "id": "IXe-yffndwGB",
        "outputId": "7cf501d3-bab8-43d7-c031-1770175637ee"
      },
      "source": [
        "# 乗算\n",
        "6 * 3"
      ],
      "execution_count": 5,
      "outputs": [
        {
          "output_type": "execute_result",
          "data": {
            "text/plain": [
              "18"
            ]
          },
          "metadata": {},
          "execution_count": 5
        }
      ]
    },
    {
      "cell_type": "code",
      "metadata": {
        "colab": {
          "base_uri": "https://localhost:8080/"
        },
        "id": "dZPOiMTJdwGB",
        "outputId": "cf61c400-4a94-43fe-e5ea-8a0df1e67dda"
      },
      "source": [
        "# 除算(商)\n",
        "6 / 3"
      ],
      "execution_count": 6,
      "outputs": [
        {
          "output_type": "execute_result",
          "data": {
            "text/plain": [
              "2.0"
            ]
          },
          "metadata": {},
          "execution_count": 6
        }
      ]
    },
    {
      "cell_type": "code",
      "metadata": {
        "colab": {
          "base_uri": "https://localhost:8080/"
        },
        "id": "4YQnh9M1dwGC",
        "outputId": "3e494801-7209-4849-bd4c-58dc5ab852c7"
      },
      "source": [
        "# 除算(剰余)\n",
        "6 % 3"
      ],
      "execution_count": 7,
      "outputs": [
        {
          "output_type": "execute_result",
          "data": {
            "text/plain": [
              "0"
            ]
          },
          "metadata": {},
          "execution_count": 7
        }
      ]
    },
    {
      "cell_type": "code",
      "metadata": {
        "colab": {
          "base_uri": "https://localhost:8080/"
        },
        "id": "BLUaYoULdwGC",
        "outputId": "500aa667-7498-4a73-fb99-fb9a085ccbd9"
      },
      "source": [
        "# 冪乗\n",
        "6 ** 3"
      ],
      "execution_count": 8,
      "outputs": [
        {
          "output_type": "execute_result",
          "data": {
            "text/plain": [
              "216"
            ]
          },
          "metadata": {},
          "execution_count": 8
        }
      ]
    },
    {
      "cell_type": "markdown",
      "metadata": {
        "id": "72FaB6vudwGC"
      },
      "source": [
        "算術演算を組み合わせて、より複雑な計算を行うこともできます。このとき、演算子の結合強度は **冪乗 > 乗算・除算 > 加算・減算** となっています。括弧がある場合、その内部の計算を優先します。"
      ]
    },
    {
      "cell_type": "code",
      "metadata": {
        "colab": {
          "base_uri": "https://localhost:8080/"
        },
        "id": "6tamnmLqdwGC",
        "outputId": "5655ee8f-1011-4cc3-8903-493478488f0e"
      },
      "source": [
        "(1 + 2) * 3 + 4**2"
      ],
      "execution_count": 9,
      "outputs": [
        {
          "output_type": "execute_result",
          "data": {
            "text/plain": [
              "25"
            ]
          },
          "metadata": {},
          "execution_count": 9
        }
      ]
    },
    {
      "cell_type": "code",
      "metadata": {
        "colab": {
          "base_uri": "https://localhost:8080/"
        },
        "id": "LPj7HQGUdwGC",
        "outputId": "29003618-a1f4-4526-f995-36a46b963a24"
      },
      "source": [
        "2 + 3 * 4"
      ],
      "execution_count": 10,
      "outputs": [
        {
          "output_type": "execute_result",
          "data": {
            "text/plain": [
              "14"
            ]
          },
          "metadata": {},
          "execution_count": 10
        }
      ]
    },
    {
      "cell_type": "code",
      "metadata": {
        "colab": {
          "base_uri": "https://localhost:8080/"
        },
        "id": "8VI3rOlFdwGC",
        "outputId": "21fdadd1-22a8-4738-c7e3-7a0ce1629316"
      },
      "source": [
        "(2 + 3) * 4"
      ],
      "execution_count": 11,
      "outputs": [
        {
          "output_type": "execute_result",
          "data": {
            "text/plain": [
              "20"
            ]
          },
          "metadata": {},
          "execution_count": 11
        }
      ]
    },
    {
      "cell_type": "code",
      "metadata": {
        "colab": {
          "base_uri": "https://localhost:8080/"
        },
        "id": "K9hXbggPdwGD",
        "outputId": "35ae05e1-1d7c-43a8-9c48-b879ba61f2d1"
      },
      "source": [
        "2 ** 3 * 4"
      ],
      "execution_count": 12,
      "outputs": [
        {
          "output_type": "execute_result",
          "data": {
            "text/plain": [
              "32"
            ]
          },
          "metadata": {},
          "execution_count": 12
        }
      ]
    },
    {
      "cell_type": "code",
      "metadata": {
        "colab": {
          "base_uri": "https://localhost:8080/"
        },
        "id": "PVKcfcSAdwGD",
        "outputId": "e9701eab-b85a-44c3-ee26-6a5ea8b1c140"
      },
      "source": [
        "2 ** (3 * 4) "
      ],
      "execution_count": 13,
      "outputs": [
        {
          "output_type": "execute_result",
          "data": {
            "text/plain": [
              "4096"
            ]
          },
          "metadata": {},
          "execution_count": 13
        }
      ]
    },
    {
      "cell_type": "markdown",
      "metadata": {
        "id": "NaPGMASidwGD"
      },
      "source": [
        "比較演算も見てみましょう。以下に示すように、比較のパターンは6種類あります。「等しい」「等しくない」を表す記号は数学のそれとは異なります。"
      ]
    },
    {
      "cell_type": "code",
      "metadata": {
        "colab": {
          "base_uri": "https://localhost:8080/"
        },
        "id": "OHnjd8vZdwGD",
        "outputId": "25da387a-b4ba-47a2-f91d-9f8dc4ec2c03"
      },
      "source": [
        "# (左)が(右)より大きい\n",
        "2 > 3"
      ],
      "execution_count": 14,
      "outputs": [
        {
          "output_type": "execute_result",
          "data": {
            "text/plain": [
              "False"
            ]
          },
          "metadata": {},
          "execution_count": 14
        }
      ]
    },
    {
      "cell_type": "code",
      "metadata": {
        "colab": {
          "base_uri": "https://localhost:8080/"
        },
        "id": "yKmAibz8dwGD",
        "outputId": "82e7c1b9-c2af-4ab5-f582-c4e210c9c00f"
      },
      "source": [
        "# (左)が(右)より小さい\n",
        "2 < 3"
      ],
      "execution_count": 15,
      "outputs": [
        {
          "output_type": "execute_result",
          "data": {
            "text/plain": [
              "True"
            ]
          },
          "metadata": {},
          "execution_count": 15
        }
      ]
    },
    {
      "cell_type": "code",
      "metadata": {
        "colab": {
          "base_uri": "https://localhost:8080/"
        },
        "id": "acQl8HfsdwGD",
        "outputId": "947d284a-bb26-4ede-b5c9-3417bd304262"
      },
      "source": [
        "# (左)が(右)以上である\n",
        "2 >= 3"
      ],
      "execution_count": 16,
      "outputs": [
        {
          "output_type": "execute_result",
          "data": {
            "text/plain": [
              "False"
            ]
          },
          "metadata": {},
          "execution_count": 16
        }
      ]
    },
    {
      "cell_type": "code",
      "metadata": {
        "colab": {
          "base_uri": "https://localhost:8080/"
        },
        "id": "i3Sn8adldwGE",
        "outputId": "175fec91-a008-4577-bbce-0e1b2a30ea77"
      },
      "source": [
        "# (左)が(右)以下である\n",
        "2 <= 3"
      ],
      "execution_count": 17,
      "outputs": [
        {
          "output_type": "execute_result",
          "data": {
            "text/plain": [
              "True"
            ]
          },
          "metadata": {},
          "execution_count": 17
        }
      ]
    },
    {
      "cell_type": "code",
      "metadata": {
        "colab": {
          "base_uri": "https://localhost:8080/"
        },
        "id": "Ls1tDu0KdwGE",
        "outputId": "44d773ed-6554-43c1-bf60-1ba217e87934"
      },
      "source": [
        "# (左)が(右)と等しい\n",
        "2 == 3"
      ],
      "execution_count": 18,
      "outputs": [
        {
          "output_type": "execute_result",
          "data": {
            "text/plain": [
              "False"
            ]
          },
          "metadata": {},
          "execution_count": 18
        }
      ]
    },
    {
      "cell_type": "code",
      "metadata": {
        "colab": {
          "base_uri": "https://localhost:8080/"
        },
        "id": "MVOUwIYqdwGE",
        "outputId": "0d87c75f-9c0b-44c9-cd1d-16805f2f9fbe"
      },
      "source": [
        "# (左)が(右)と等しくない\n",
        "2 != 3"
      ],
      "execution_count": 19,
      "outputs": [
        {
          "output_type": "execute_result",
          "data": {
            "text/plain": [
              "True"
            ]
          },
          "metadata": {},
          "execution_count": 19
        }
      ]
    },
    {
      "cell_type": "markdown",
      "metadata": {
        "id": "6PhzLWZpdwGE"
      },
      "source": [
        "ここで、`True`および`False`は**真偽値**といいます。`True`は真(成立)である、`False`は偽(不成立)であることを表します。\n",
        "\n",
        "ここからは論理演算(真偽値に関する計算)を見ていきます。Pythonでは論理積`and`、論理和`or`、否定`not`がサポートされています。"
      ]
    },
    {
      "cell_type": "code",
      "metadata": {
        "colab": {
          "base_uri": "https://localhost:8080/"
        },
        "id": "byfFTml9dwGE",
        "outputId": "59540d82-02df-434d-8ef8-5cacc4f29599"
      },
      "source": [
        "True and False"
      ],
      "execution_count": 20,
      "outputs": [
        {
          "output_type": "execute_result",
          "data": {
            "text/plain": [
              "False"
            ]
          },
          "metadata": {},
          "execution_count": 20
        }
      ]
    },
    {
      "cell_type": "code",
      "metadata": {
        "colab": {
          "base_uri": "https://localhost:8080/"
        },
        "id": "4gLFqulLdwGE",
        "outputId": "92cb3afd-8af0-4201-f08e-d628dbe6d08f"
      },
      "source": [
        "True or False"
      ],
      "execution_count": 21,
      "outputs": [
        {
          "output_type": "execute_result",
          "data": {
            "text/plain": [
              "True"
            ]
          },
          "metadata": {},
          "execution_count": 21
        }
      ]
    },
    {
      "cell_type": "code",
      "metadata": {
        "colab": {
          "base_uri": "https://localhost:8080/"
        },
        "id": "WSftM0G-dwGE",
        "outputId": "62244870-2260-488b-bc8d-3e5270dfe7dc"
      },
      "source": [
        "not True"
      ],
      "execution_count": 22,
      "outputs": [
        {
          "output_type": "execute_result",
          "data": {
            "text/plain": [
              "False"
            ]
          },
          "metadata": {},
          "execution_count": 22
        }
      ]
    },
    {
      "cell_type": "markdown",
      "metadata": {
        "id": "vIY6KvDydwGE"
      },
      "source": [
        "### 1.2.2 変数"
      ]
    },
    {
      "cell_type": "markdown",
      "metadata": {
        "id": "tDrz_hYVdwGE"
      },
      "source": [
        "次に**変数**について説明します。変数とは、式の計算結果を保存しておく箱のようなものです。変数に値を保存することを**代入**と言い、その値を取り出して利用することを**参照**と言います。"
      ]
    },
    {
      "cell_type": "code",
      "metadata": {
        "colab": {
          "base_uri": "https://localhost:8080/"
        },
        "id": "Vh_xq8svdwGF",
        "outputId": "2bccf629-f8b4-474c-edaf-e9236efaf6d9"
      },
      "source": [
        "# xに1を代入し、xを参照する\n",
        "x = 1\n",
        "x"
      ],
      "execution_count": 23,
      "outputs": [
        {
          "output_type": "execute_result",
          "data": {
            "text/plain": [
              "1"
            ]
          },
          "metadata": {},
          "execution_count": 23
        }
      ]
    },
    {
      "cell_type": "markdown",
      "metadata": {
        "id": "jsd-_h3tdwGF"
      },
      "source": [
        "上の例では`x`が変数です。プログラミング言語において`=`は「等しい」という意味ではなく「代入する」という意味で使います。\n",
        "\n",
        "一度保存した値は何度でも利用することができ、上書きされるまで残り続けます。変数の値を上書きすることを**再代入**ということもあります。再代入のときも代入と同様に書くことができます。"
      ]
    },
    {
      "cell_type": "code",
      "metadata": {
        "colab": {
          "base_uri": "https://localhost:8080/"
        },
        "id": "CZT4MhDydwGF",
        "outputId": "40c9d311-b7a8-461a-f99c-8e805327fe91"
      },
      "source": [
        "# xに2を再代入する\n",
        "x = 1\n",
        "x = 2\n",
        "x"
      ],
      "execution_count": 24,
      "outputs": [
        {
          "output_type": "execute_result",
          "data": {
            "text/plain": [
              "2"
            ]
          },
          "metadata": {},
          "execution_count": 24
        }
      ]
    },
    {
      "cell_type": "code",
      "metadata": {
        "colab": {
          "base_uri": "https://localhost:8080/"
        },
        "id": "8KFGeVFgdwGF",
        "outputId": "cc4b4b42-2625-4861-c88e-e1d996435b27"
      },
      "source": [
        "# x+1をxに再代入する\n",
        "x = 1\n",
        "x = x + 1\n",
        "x"
      ],
      "execution_count": 25,
      "outputs": [
        {
          "output_type": "execute_result",
          "data": {
            "text/plain": [
              "2"
            ]
          },
          "metadata": {},
          "execution_count": 25
        }
      ]
    },
    {
      "cell_type": "markdown",
      "metadata": {
        "id": "zuJIbU7FdwGF"
      },
      "source": [
        "直前の例の2行目について説明します。これは右辺の`x+1`を計算し、その結果を左辺の`x`に代入する、という処理を行います。右辺の計算をする時点で`x`の値は1なので、右辺の計算結果が2となり、`x`に2が代入されます。このように、変数の値を更新しながら計算を進めていくというのはよくあることです。"
      ]
    },
    {
      "cell_type": "markdown",
      "metadata": {
        "id": "4I6XUKoqdwGF"
      },
      "source": [
        "### 1.2.3 プログラムの評価"
      ]
    },
    {
      "cell_type": "markdown",
      "metadata": {
        "id": "wdB1kixEdwGF"
      },
      "source": [
        "ここでプログラミングにおける**評価**について少し触れておきます。\n",
        "コンピュータに対する命令を並べたものをプログラムと言いましたが、その1つ1つの命令に対応するものを**式**と言います。プログラムを実行するというのは、命令列を順に処理していき、プログラム全体としての処理結果を得ることです。\n",
        "\n",
        "式(に対応する命令)を処理すると、基本的に何らかの値が返ってきます。このように式を処理して値を得ることを式の評価、結果として得られる値を評価値と言います。式が複数並んでいる場合には、その最後の式の評価結果が全体の評価結果になります。例えば\n",
        "\n",
        "```python\n",
        "2 + 3\n",
        "```\n",
        "\n",
        "という式の評価結果は`5`になりますし、\n",
        "\n",
        "```python\n",
        "2 + 3\n",
        "3 + 4\n",
        "```\n",
        "\n",
        "という複数の式の評価結果は`7`になります。プログラムは複数の式の並びなので、その評価値はプログラム中の最後の式の評価値ということになります。Jupyter Notebook上ではプログラムの評価値が`Out[n]`の右側に出ることになっています。\n",
        "\n",
        "評価値がないような式もあります。代表的な例としては出力関数が挙げられます。(関数については後で学びます。)これはプログラム中にある式の評価値を表示するような命令です。"
      ]
    },
    {
      "cell_type": "code",
      "metadata": {
        "colab": {
          "base_uri": "https://localhost:8080/"
        },
        "id": "tFSbv1ffdwGG",
        "outputId": "c5ab2477-f62c-4755-a08d-7cd0a90c0e3f"
      },
      "source": [
        "# 出力関数\n",
        "print(2 + 3)\n",
        "3 + 4"
      ],
      "execution_count": 26,
      "outputs": [
        {
          "output_type": "stream",
          "name": "stdout",
          "text": [
            "5\n"
          ]
        },
        {
          "output_type": "execute_result",
          "data": {
            "text/plain": [
              "7"
            ]
          },
          "metadata": {},
          "execution_count": 26
        }
      ]
    },
    {
      "cell_type": "markdown",
      "metadata": {
        "id": "g0kd1_redwGG"
      },
      "source": [
        "上のプログラムを実行すると、その評価値として`7`が得られますが、その上に`5`と表示されます。この`5`は`print(...)`の中の式`2 + 3`の評価値に対応しています。`print`関数を使うことで、プログラムの途中式の計算結果を見ることができます。プログラムにエラーがあったとき、その原因を探るための常套手段としてよく用いられます。\n",
        "\n",
        "この`print`をプログラムの最後に書くと下のような結果となります。"
      ]
    },
    {
      "cell_type": "code",
      "metadata": {
        "colab": {
          "base_uri": "https://localhost:8080/"
        },
        "id": "LDarv2rJdwGG",
        "outputId": "9f01a1c0-c0b5-49ec-c273-88922b8a1cd3"
      },
      "source": [
        "# 出力関数の評価値\n",
        "print(2 + 3)\n",
        "print(3 + 4)"
      ],
      "execution_count": 27,
      "outputs": [
        {
          "output_type": "stream",
          "name": "stdout",
          "text": [
            "5\n",
            "7\n"
          ]
        }
      ]
    },
    {
      "cell_type": "markdown",
      "metadata": {
        "id": "RWUhOkZwdwGG"
      },
      "source": [
        "実行しても`Out[n]`の表示が現れません。このように、プログラムの評価値がない場合には`Out[n]`の表示が省略されることに注意しましょう。\n",
        "もう少し調べてみましょう。代入式\n",
        "\n",
        "```\n",
        "<変数> = <式>\n",
        "```\n",
        "\n",
        "ではまず右辺の式が評価され、その値が左辺の変数に代入されます。では、右辺の式の評価値がない場合にはどうなるでしょうか。実際に試してみましょう。"
      ]
    },
    {
      "cell_type": "code",
      "metadata": {
        "colab": {
          "base_uri": "https://localhost:8080/"
        },
        "id": "U5Nu-92GdwGH",
        "outputId": "a0fb334e-d7fd-46fd-994b-cbe1a4142b3e"
      },
      "source": [
        "# 右辺の式の評価値がない場合の代入式\n",
        "x = print(2 + 3)\n",
        "print(x)"
      ],
      "execution_count": 1,
      "outputs": [
        {
          "output_type": "stream",
          "name": "stdout",
          "text": [
            "5\n",
            "None\n"
          ]
        }
      ]
    },
    {
      "cell_type": "markdown",
      "metadata": {
        "id": "v_o4yvgndwGH"
      },
      "source": [
        "Pythonでは値が存在しないことを表すデータとして`None`というものが用意されています。`None`に対する演算は限られていますが、例えばあるデータがNoneかどうか判定するには`is`演算子を用いて下のようにします。"
      ]
    },
    {
      "cell_type": "code",
      "metadata": {
        "colab": {
          "base_uri": "https://localhost:8080/"
        },
        "id": "4ZQn1_gCdwGH",
        "outputId": "4a266998-ea1e-44c1-c56e-793a3a7de8dc"
      },
      "source": [
        "# is演算子\n",
        "x = print(2 + 3)\n",
        "x is None"
      ],
      "execution_count": 1,
      "outputs": [
        {
          "output_type": "stream",
          "name": "stdout",
          "text": [
            "5\n"
          ]
        },
        {
          "output_type": "execute_result",
          "data": {
            "text/plain": [
              "True"
            ]
          },
          "metadata": {},
          "execution_count": 1
        }
      ]
    },
    {
      "cell_type": "markdown",
      "metadata": {
        "id": "1VYB48JfdwGH"
      },
      "source": [
        "### 1.2.4 条件分岐"
      ]
    },
    {
      "cell_type": "markdown",
      "metadata": {
        "id": "Rq13xl-pdwGH"
      },
      "source": [
        "プログラムの基本的な処理の1つに**条件分岐**があります。これは条件によって実行する処理を変えるというものです。\n",
        "早速ですが、条件分岐に関する文法を見ていきましょう。Pythonでよく使われるのは`if`文です。フォーマットを以下に示します。\n",
        "\n",
        "```python\n",
        "if <条件式0>:\n",
        "    <(条件式0がTrueのときに実行する)処理>\n",
        "elif <条件式1>:\n",
        "    <(条件式0がFalse、条件式1がTrueのときに実行する)処理>\n",
        "else:\n",
        "    <(すべての条件式がFalseのときに実行する)処理>\n",
        "```\n",
        "\n",
        "`if`文は、条件式が`True`ならば処理を実行します。条件式が`False`のときに実行する処理を`else`節として`if`文に加えることもできます。また、条件を複数指定したい場合には`elif`節を合わせて使うことがあります。`elif`節は任意の数だけ繰り返すことができます。\n",
        "\n",
        "注意すべきなのは、(条件式がTrue/Falseとなったときに実行される)処理の前に**空白(スペース)を4つ入れなければならない**ということです。Pythonではこれを**インデント**と呼んでいます。適切にインデントが挿入されていないとエラーとなります。"
      ]
    },
    {
      "cell_type": "markdown",
      "metadata": {
        "id": "p-iFVKdOdwGH"
      },
      "source": [
        "それでは例を見てみましょう。下の例では変数`x`の絶対値を計算し、その結果を`y`に格納しています。"
      ]
    },
    {
      "cell_type": "code",
      "metadata": {
        "id": "P7xGJTChdwGI"
      },
      "source": [
        "x = -1\n",
        "if (x < 0):\n",
        "    y = - x\n",
        "else:\n",
        "    y = x\n",
        "y"
      ],
      "execution_count": null,
      "outputs": []
    },
    {
      "cell_type": "markdown",
      "metadata": {
        "id": "J1zu93bDdwGI"
      },
      "source": [
        "上では明示的に書きませんでしたが、複数の連続する処理を実行させることもできます。このとき、その処理すべての前にインデントを挿入する必要があります。プログラミングにおいて処理のまとまりのことを一般に**ブロック**と言いますが、Pythonではインデントが挿入されている部分をブロックとみなして処理しています。\n",
        "\n",
        "下の2つの例は似ているようですが全く異なるコードです。インデントに注目して動作を確認してみてください。"
      ]
    },
    {
      "cell_type": "code",
      "metadata": {
        "id": "m00Cgn4YdwGI"
      },
      "source": [
        "# 例1\n",
        "x = 1\n",
        "if (x < 0):\n",
        "    x = - x\n",
        "    x = - x\n",
        "x"
      ],
      "execution_count": null,
      "outputs": []
    },
    {
      "cell_type": "code",
      "metadata": {
        "id": "K1BoIFCUdwGI"
      },
      "source": [
        "# 例2\n",
        "x = 1\n",
        "if (x < 0):\n",
        "    x = - x\n",
        "x = - x\n",
        "x"
      ],
      "execution_count": null,
      "outputs": []
    },
    {
      "cell_type": "markdown",
      "metadata": {
        "id": "_sPHAiUgdwGI"
      },
      "source": [
        "### 1.2.5 ループ"
      ]
    },
    {
      "cell_type": "markdown",
      "metadata": {
        "id": "T5mipdH0dwGI"
      },
      "source": [
        "プログラムにおいて、同じような処理を繰り返し実行したい、ということはよくあります。例として1から10までの和を求めることを考えましょう。ここまでに学んだことを使って書けば下のようになります。"
      ]
    },
    {
      "cell_type": "code",
      "metadata": {
        "id": "aF6HW9eIdwGJ"
      },
      "source": [
        "# 1から10までの和\n",
        "x = 0\n",
        "x = x + 1\n",
        "x = x + 2\n",
        "x = x + 3\n",
        "x = x + 4\n",
        "x = x + 5\n",
        "x = x + 6\n",
        "x = x + 7\n",
        "x = x + 8\n",
        "x = x + 9\n",
        "x = x + 10\n",
        "x"
      ],
      "execution_count": null,
      "outputs": []
    },
    {
      "cell_type": "markdown",
      "metadata": {
        "id": "02xaQCnJdwGJ"
      },
      "source": [
        "確かに求めることはできますが、プログラムが長くなってしまいます。こういう場合には**ループ**を利用することで効率的にプログラミングをすることができます。では、ループを使ったプログラムを見てみましょう。"
      ]
    },
    {
      "cell_type": "code",
      "metadata": {
        "id": "L-8pp814dwGJ"
      },
      "source": [
        "# 1から10までの和\n",
        "x = 0\n",
        "for n in range(1,11):\n",
        "    x = x + n\n",
        "x"
      ],
      "execution_count": null,
      "outputs": []
    },
    {
      "cell_type": "markdown",
      "metadata": {
        "id": "cwK76ImMdwGJ"
      },
      "source": [
        "ループを利用することによって、共通する部分の処理は1回だけ書けば良いことになります。"
      ]
    },
    {
      "cell_type": "markdown",
      "metadata": {
        "id": "AZwOehl0dwGK"
      },
      "source": [
        "では、ループに関する文法を紹介します。Pythonでよく使われるループは2種類あり、`for`文と`while`文があります。フォーマットは以下の通りです。\n",
        "\n",
        "- `for`文\n",
        "\n",
        "```python\n",
        "for <変数> in <イテレータ>:\n",
        "    <処理>\n",
        "```\n",
        "\n",
        "- `while`文\n",
        "\n",
        "```python\n",
        "while <条件式>:\n",
        "    <(条件式がTrueの間だけ実行する)処理>\n",
        "```\n",
        "\n",
        "イテレータ(※)とは何らかのデータ系列を生成するようなものです。上の例で用いた`range(1,11)`は1, 2, ..., 10を生成しています。\n",
        "`for`文ではイテレータが生成するデータを順に変数に代入して処理を行う、ということを繰り返していきます。そして最後のデータまで処理したら`for`文を抜けます。上の例では、まず`n`に1を代入して`x = x + n`を計算し、次に`n`に2を代入して......最後に`n`に10を代入して計算したら`for`文を抜けます。\n",
        "\n",
        "※正確にはPythonにおける「反復可能オブジェクト」であればループを利用して要素を取り出すことができます。ここでは一般的な「イテレータ」を想定して説明しています。\n",
        "\n",
        "`while`文は条件式が`True`ならば処理を行い、`False`ならば(`while`文を)抜ける、という挙動をします。\n",
        "上の例を`while`文を使って書けば下のようになります。"
      ]
    },
    {
      "cell_type": "code",
      "metadata": {
        "id": "F7Y1M7gWdwGK"
      },
      "source": [
        "x = 0\n",
        "n = 1\n",
        "while (n <= 10):\n",
        "    x = x + n\n",
        "    n = n + 1\n",
        "x"
      ],
      "execution_count": null,
      "outputs": []
    },
    {
      "cell_type": "markdown",
      "metadata": {
        "id": "PESqT_xKdwGK"
      },
      "source": [
        "`while`文の処理を1回行うたびに`n`が1ずつ増えていくので、このループはちょうど10回まわることが確認できるでしょう。\n",
        "\n",
        "これら`for`文と`while`文は本質的に同じものです。すなわち、`for`文で実現できることは`while`文でも実現でき、逆もそうであるということです。とはいえ書きやすさは状況によって異なるので、それに応じて使いやすい方を使うのが良いと思います。\n",
        "\n",
        "ところで、`for`文・`while`文もインデントによってブロックを認識します。`if`文と同様インデントに注意しましょう。"
      ]
    },
    {
      "cell_type": "markdown",
      "metadata": {
        "id": "nADayhHcdwGK"
      },
      "source": [
        "ループは条件分岐と組み合わせて使うことがよくあります。例として1から10までの偶数の和を求めるプログラムを示します。偶数は2で割った剰余が0になることに注意してください。"
      ]
    },
    {
      "cell_type": "code",
      "metadata": {
        "id": "7Ug08vQXdwGK"
      },
      "source": [
        "# 1から10までの偶数の和を求めるプログラム\n",
        "x = 0\n",
        "n = 1\n",
        "while (n <= 10):\n",
        "    if (n % 2 == 0):\n",
        "        x = x + n\n",
        "    n = n + 1\n",
        "x"
      ],
      "execution_count": null,
      "outputs": []
    },
    {
      "cell_type": "markdown",
      "metadata": {
        "id": "r8iTzFhFdwGK"
      },
      "source": [
        "### 1.2.6 関数"
      ]
    },
    {
      "cell_type": "markdown",
      "metadata": {
        "id": "h2bJekI3dwGL"
      },
      "source": [
        "プログラムを作成していると、以前作成したものを再度利用したいと思うことがあるかもしれません。**関数**を利用することで、その処理の流れに名前をつけて保存し、必要になったら呼び出すことができるようになります。\n",
        "\n",
        "フォーマットは以下の通りです。\n",
        "\n",
        "- 関数定義\n",
        "\n",
        "```python\n",
        "def <関数名>(<引数>, ...):\n",
        "    <関数内部の処理>\n",
        "```\n",
        "\n",
        "- 関数呼び出し\n",
        "\n",
        "```python\n",
        "<関数名>(<引数>, ...)\n",
        "```\n",
        "\n",
        "関数を呼び出すとき、0個以上の**引数**を渡します。関数内の処理ではこの引数の値を利用することができます。これだけでは理解しづらいと思うので、絶対値を求めるプログラムを例にとって具体的に説明します。\n",
        "\n",
        "ある`x`が与えられたとき、その絶対値`y`は下のプログラムを利用して求めることができます。これは以前作成したものと全く同じものです。"
      ]
    },
    {
      "cell_type": "code",
      "metadata": {
        "id": "o4rPpW0-dwGL"
      },
      "source": [
        "# 絶対値を求めるプログラム\n",
        "x = -1\n",
        "if (x < 0):\n",
        "    y = - x\n",
        "else:\n",
        "    y = x\n",
        "y"
      ],
      "execution_count": null,
      "outputs": []
    },
    {
      "cell_type": "markdown",
      "metadata": {
        "id": "BITgAVCddwGL"
      },
      "source": [
        "この処理の流れを関数にしたいと思います。関数を利用するためには、まず関数を**定義**する必要があります。関数定義は下のようにします。"
      ]
    },
    {
      "cell_type": "code",
      "metadata": {
        "id": "Vzjf51s9dwGL"
      },
      "source": [
        "# 絶対値を求める関数の定義\n",
        "def absolute(x):\n",
        "    if (x < 0):\n",
        "        y = - x\n",
        "    else:\n",
        "        y = x\n",
        "    return y"
      ],
      "execution_count": null,
      "outputs": []
    },
    {
      "cell_type": "markdown",
      "metadata": {
        "id": "GyLc9gtEdwGL"
      },
      "source": [
        "ここで関数名は絶対値(absolute value)を意味する`absolute`としています。この関数を呼び出す(利用する)ときにはこの名前を使います。\n",
        "\n",
        "この`absolute`関数を呼び出してみます。関数を呼び出すときには引数を与える必要がありますが、これは定義したときと同じ個数である必要があります。"
      ]
    },
    {
      "cell_type": "code",
      "metadata": {
        "id": "LkMZJDJ4dwGM"
      },
      "source": [
        "# 絶対値を求める関数の呼び出し\n",
        "absolute(-1)"
      ],
      "execution_count": null,
      "outputs": []
    },
    {
      "cell_type": "markdown",
      "metadata": {
        "id": "yzH8LLogdwGM"
      },
      "source": [
        "関数内の処理では引数の値を利用することができると言いましたが、より詳しく言えば「関数呼び出しのときに与えた引数が、関数定義のときに与えた引数のところにコピーされる」ということです。上の例では、関数呼び出しのときに-1を引数として与えていますが、それは関数定義したときに与えた引数`x`にコピーされています。\n",
        "\n",
        "プログラミングの用語では、関数定義のときに与えた引数のことを**仮引数**、関数呼び出しのときに与えた引数のことを**実引数**と呼んでいます。\n",
        "\n",
        "関数の評価値は、関数内部で`return`した値になります。これを**返り値**と言います。上の例では`y`が返り値となりますが、これが`x`の絶対値になっていることが確認できると思います。なお、`return`されない場合には関数の返り値は`None`になります。"
      ]
    },
    {
      "cell_type": "markdown",
      "metadata": {
        "id": "skEXr3w0dwGM"
      },
      "source": [
        "なお、複数の引数を持つ関数を定義することもできます。ただし、実引数の順は仮引数のそれに対応していることに注意してください。"
      ]
    },
    {
      "cell_type": "code",
      "metadata": {
        "id": "lg5F6g_adwGM"
      },
      "source": [
        "# べき乗を求める関数\n",
        "def power(x, y):\n",
        "    return x ** y"
      ],
      "execution_count": null,
      "outputs": []
    },
    {
      "cell_type": "code",
      "metadata": {
        "id": "dDdA5tfbdwGM"
      },
      "source": [
        "power(2, 3)"
      ],
      "execution_count": null,
      "outputs": []
    },
    {
      "cell_type": "code",
      "metadata": {
        "id": "kFT62av5dwGM"
      },
      "source": [
        "power(3, 2)"
      ],
      "execution_count": null,
      "outputs": []
    },
    {
      "cell_type": "markdown",
      "metadata": {
        "id": "w2ILDkfmdwGM"
      },
      "source": [
        "仮引数と実引数の対応を明示的に指定する場合には、`<仮引数>=<実引数>`という形式で指定します。この形式で渡す引数を**キーワード引数**と言います。それに対して、明示的には指定しない(実引数の順が仮引数のそれに対応していると仮定する)場合の引数を**位置引数**と呼ぶことがあります。"
      ]
    },
    {
      "cell_type": "code",
      "metadata": {
        "id": "O0ZiYznIdwGM"
      },
      "source": [
        "power(y=2, x=3)"
      ],
      "execution_count": null,
      "outputs": []
    },
    {
      "cell_type": "markdown",
      "metadata": {
        "id": "6kpk-akEdwGM"
      },
      "source": [
        "さらに、引数(の一部)に既定値を与えておき、その引数を省略可能とすることもできます。これを**デフォルト引数**と言います。関数呼び出しの際にその引数が省略された場合、既定値が使用されます。"
      ]
    },
    {
      "cell_type": "code",
      "metadata": {
        "id": "ABPW3dr4dwGM"
      },
      "source": [
        "def power(x=1, y=1):\n",
        "    return x ** y"
      ],
      "execution_count": null,
      "outputs": []
    },
    {
      "cell_type": "code",
      "metadata": {
        "id": "g9u-7ifpdwGN"
      },
      "source": [
        "power(x=3)"
      ],
      "execution_count": null,
      "outputs": []
    },
    {
      "cell_type": "markdown",
      "metadata": {
        "id": "c_14gcfqdwGN"
      },
      "source": [
        "### 1.2.7 データ型"
      ]
    },
    {
      "cell_type": "markdown",
      "metadata": {
        "id": "Z1Xaq7NCdwGN"
      },
      "source": [
        "これまでは整数および真偽値を扱ってきましたが、それ以外にも様々なデータの種類があります。プログラミング言語におけるデータの種類のことを**データ型**と言います。Pythonでよく使われるデータ型は以下の通りです。\n",
        "\n",
        "- int型(整数)\n",
        "- float型(小数)\n",
        "- bool型(真偽値)\n",
        "- str型(文字列)\n",
        "- list型(リスト)\n",
        "- tuple型(タプル)\n",
        "- dict型(辞書)\n",
        "\n",
        "この節では`int`型および`bool`型以外のデータ型について簡単に説明します。"
      ]
    },
    {
      "cell_type": "markdown",
      "metadata": {
        "id": "1P-N8e7YdwGN"
      },
      "source": [
        "#### float型(小数)"
      ]
    },
    {
      "cell_type": "markdown",
      "metadata": {
        "id": "5BiX9cVPdwGN"
      },
      "source": [
        "float型はint型(整数)とほぼ同様の操作を行うことができます。"
      ]
    },
    {
      "cell_type": "code",
      "metadata": {
        "id": "0xxUhZdJdwGN"
      },
      "source": [
        "# 加算\n",
        "4.0 + 3.0"
      ],
      "execution_count": null,
      "outputs": []
    },
    {
      "cell_type": "code",
      "metadata": {
        "id": "9LjawA6ydwGN"
      },
      "source": [
        "# 減算\n",
        "4.0 - 3.0"
      ],
      "execution_count": null,
      "outputs": []
    },
    {
      "cell_type": "code",
      "metadata": {
        "id": "DJXkVZMbdwGO"
      },
      "source": [
        "# 乗算\n",
        "4.0 * 3.0"
      ],
      "execution_count": null,
      "outputs": []
    },
    {
      "cell_type": "code",
      "metadata": {
        "id": "7F-Dk9NbdwGP"
      },
      "source": [
        "# 除算(商)\n",
        "4.0 / 3.0"
      ],
      "execution_count": null,
      "outputs": []
    },
    {
      "cell_type": "code",
      "metadata": {
        "id": "Xe4b9GAGdwGP"
      },
      "source": [
        "# 除算(剰余)\n",
        "4.0 % 3.0"
      ],
      "execution_count": null,
      "outputs": []
    },
    {
      "cell_type": "code",
      "metadata": {
        "id": "T5lWAlvFdwGP"
      },
      "source": [
        "# 冪乗\n",
        "4.0 ** 3.0"
      ],
      "execution_count": null,
      "outputs": []
    },
    {
      "cell_type": "markdown",
      "metadata": {
        "id": "lOW852SpdwGP"
      },
      "source": [
        "int型・float型の値が混ざった式を計算することもできます。このとき、int型はfloat型に変換され、float型で計算されます。"
      ]
    },
    {
      "cell_type": "code",
      "metadata": {
        "id": "roktWaM0dwGP"
      },
      "source": [
        "# int型・float型が混ざった式\n",
        "4 + 3.0"
      ],
      "execution_count": null,
      "outputs": []
    },
    {
      "cell_type": "markdown",
      "metadata": {
        "id": "d7X5zd4MdwGP"
      },
      "source": [
        "(浮動)小数の計算では、その性質上、誤差が発生することがあります。興味がある人は調べてみると良いでしょう。"
      ]
    },
    {
      "cell_type": "markdown",
      "metadata": {
        "id": "ZgFRqBb7dwGP"
      },
      "source": [
        "#### str型(文字列)"
      ]
    },
    {
      "cell_type": "markdown",
      "metadata": {
        "id": "opBATwr7dwGQ"
      },
      "source": [
        "**文字列**はその名の通り、文字が並んだもののことです。Pythonでは`'...'`(シングルクオーテーション)または`\"...\"`(ダブルクオーテーション)で囲んだ部分が文字列となります。`'...'`で囲んだものと`\"...\"`で囲んだものは同じ文字列ですが、囲うことができる文字に違いがあります。(その違いについてはこの資料では扱いません。)"
      ]
    },
    {
      "cell_type": "code",
      "metadata": {
        "id": "WrOLBKxCdwGQ"
      },
      "source": [
        "# 文字列\n",
        "\"abc\""
      ],
      "execution_count": null,
      "outputs": []
    },
    {
      "cell_type": "markdown",
      "metadata": {
        "id": "TjwiWdmEdwGQ"
      },
      "source": [
        "文字列に対する操作を見ていきましょう。\n",
        "まずは文字列の結合です。int型の加算と同じ記号`+`で文字列を結合することができます。"
      ]
    },
    {
      "cell_type": "code",
      "metadata": {
        "id": "DjTWQ0wydwGQ"
      },
      "source": [
        "# 文字列の結合\n",
        "\"abc\" + 'def'"
      ],
      "execution_count": null,
      "outputs": []
    },
    {
      "cell_type": "markdown",
      "metadata": {
        "id": "ihHun2I4dwGQ"
      },
      "source": [
        "文字列に含まれる文字の数を(文字列の)長さと言いますが、これを求める関数として`len`が用意されています。"
      ]
    },
    {
      "cell_type": "code",
      "metadata": {
        "id": "q7Lli8Z3dwGQ"
      },
      "source": [
        "# 文字列の長さ\n",
        "len(\"abc\")"
      ],
      "execution_count": null,
      "outputs": []
    },
    {
      "cell_type": "markdown",
      "metadata": {
        "id": "2P1qO9NbdwGQ"
      },
      "source": [
        "#### list型(リスト)"
      ]
    },
    {
      "cell_type": "markdown",
      "metadata": {
        "id": "sEevTqvsdwGR"
      },
      "source": [
        "**リスト**は、複数の要素を集めたものです。他のプログラミング言語では**配列**と呼ばれることが多いです。Pythonでは`[<要素>, ...]`(角括弧)という形式でリストを作ることができます。"
      ]
    },
    {
      "cell_type": "code",
      "metadata": {
        "id": "xTfkdjVDdwGR"
      },
      "source": [
        "# リスト\n",
        "[1, 2, 3]"
      ],
      "execution_count": null,
      "outputs": []
    },
    {
      "cell_type": "markdown",
      "metadata": {
        "id": "E9uY0HOgdwGR"
      },
      "source": [
        "リストに対する操作を見ていきましょう。\n",
        "リストの各要素には`<リスト名>[要素番号]`という形式でアクセスすることができます。この要素番号のことを**インデックス**と言い、**0から数え始めます**。"
      ]
    },
    {
      "cell_type": "code",
      "metadata": {
        "id": "4jS2VgqvdwGR"
      },
      "source": [
        "# 要素の参照\n",
        "x = [1, 2, 3]\n",
        "x[0]"
      ],
      "execution_count": null,
      "outputs": []
    },
    {
      "cell_type": "markdown",
      "metadata": {
        "id": "gb30ne1ddwGR"
      },
      "source": [
        "要素を参照するだけではなく、新しい要素を代入することもできます。"
      ]
    },
    {
      "cell_type": "code",
      "metadata": {
        "id": "Efq5AaH5dwGR"
      },
      "source": [
        "# 要素の代入\n",
        "x = [1, 2, 3]\n",
        "x[0] = 10\n",
        "x"
      ],
      "execution_count": null,
      "outputs": []
    },
    {
      "cell_type": "markdown",
      "metadata": {
        "id": "B7qSorxSdwGR"
      },
      "source": [
        "一度に複数要素アクセスすることもできます。Pythonではこれを**スライス**と呼んでいます。`<リスト名>[開始位置:終了位置:増分]`という形式でアクセスします。デフォルトの開始位置は先頭、終了位置は末尾(の後ろ)、増分は1となっており、省略するとデフォルト値が使われます。スライスでアクセスしたとき、**終了位置は含まれない**ことに注意してください。"
      ]
    },
    {
      "cell_type": "code",
      "metadata": {
        "id": "iPHqkwKhdwGR"
      },
      "source": [
        "# スライス(参照)\n",
        "x = [1, 2, 3, 4, 5]\n",
        "x[2:4:1]"
      ],
      "execution_count": null,
      "outputs": []
    },
    {
      "cell_type": "markdown",
      "metadata": {
        "id": "KOmxzoI5dwGS"
      },
      "source": [
        "スライスに対して代入を行うこともできます。このとき、代入式の右辺はリストにするようにしてください。"
      ]
    },
    {
      "cell_type": "code",
      "metadata": {
        "id": "2grN6Lf1dwGS"
      },
      "source": [
        "# スライス(代入)\n",
        "x = [1, 2, 3, 4, 5]\n",
        "x[2:4:1] = [10, 20, 30]\n",
        "x"
      ],
      "execution_count": null,
      "outputs": []
    },
    {
      "cell_type": "markdown",
      "metadata": {
        "id": "FOfPuboKdwGS"
      },
      "source": [
        "リストに含まれる要素の数を(リストの)長さと言いますが、これを求める関数として`len`が用意されています。"
      ]
    },
    {
      "cell_type": "code",
      "metadata": {
        "id": "f6rb7z_mdwGS"
      },
      "source": [
        "# リストの長さ\n",
        "len([1, 2, 3])"
      ],
      "execution_count": null,
      "outputs": []
    },
    {
      "cell_type": "markdown",
      "metadata": {
        "id": "ISjIMrhPdwGS"
      },
      "source": [
        "リストを操作するにあたって`for`文などのループを利用することが多いです。例えばリストのすべての要素を2乗するプログラムは下のように書くことができます。"
      ]
    },
    {
      "cell_type": "code",
      "metadata": {
        "id": "x3gASa5ndwGS"
      },
      "source": [
        "# すべての要素を2乗するプログラム\n",
        "x = [1, 2, 3, 4, 5]\n",
        "for i in range(len(x)):\n",
        "    x[i] = x[i] ** 2\n",
        "x"
      ],
      "execution_count": null,
      "outputs": []
    },
    {
      "cell_type": "markdown",
      "metadata": {
        "id": "LbFqYXH8dwGS"
      },
      "source": [
        "#### tuple型(タプル)"
      ]
    },
    {
      "cell_type": "markdown",
      "metadata": {
        "id": "vKgiC5PodwGS"
      },
      "source": [
        "タプルもリスト同様複数の要素を集めたもので、他のプログラミング言語では**組**と呼ばれています。Pythonでは`(<要素>, ...)`(丸括弧)という形式でタプルを作ることができます。"
      ]
    },
    {
      "cell_type": "code",
      "metadata": {
        "id": "259pf93tdwGS"
      },
      "source": [
        "# タプル\n",
        "(1, 2, 3)"
      ],
      "execution_count": null,
      "outputs": []
    },
    {
      "cell_type": "markdown",
      "metadata": {
        "id": "2gU080PIdwGT"
      },
      "source": [
        "リストが**同じ種類のデータをまとめる**のに対して、タプルは**異なる種類のデータをまとめる**ことが多いです。データの構造が似ているため、リストと同じような操作を行うことができますが、微妙に異なる部分もあります。以下ではリストとの共通点と相違点を比較しながらタプルを学んでいきます。"
      ]
    },
    {
      "cell_type": "markdown",
      "metadata": {
        "id": "Z0OjMxXpdwGT"
      },
      "source": [
        "タプルではリスト同様に、インデックスを用いて要素にアクセスすることができます。"
      ]
    },
    {
      "cell_type": "code",
      "metadata": {
        "id": "CdurBXkgdwGT"
      },
      "source": [
        "# 要素の参照\n",
        "x = (1, 2.0, \"3\")\n",
        "x[0]"
      ],
      "execution_count": null,
      "outputs": []
    },
    {
      "cell_type": "code",
      "metadata": {
        "id": "yQgooHc5dwGT"
      },
      "source": [
        "# スライス(参照)\n",
        "x = (1, 2.0, \"3\")\n",
        "x[0:2]"
      ],
      "execution_count": null,
      "outputs": []
    },
    {
      "cell_type": "markdown",
      "metadata": {
        "id": "vL6jie2SdwGT"
      },
      "source": [
        "しかし、タプルに要素を代入することはできません。要素を追加したり削除したりすることも認められていません。リストは変更可能である(**mutable**である)のに対し、タプルは変更不能である(**immutable**である)ことに注意しましょう。"
      ]
    },
    {
      "cell_type": "markdown",
      "metadata": {
        "id": "M5lcJfYqdwGT"
      },
      "source": [
        "実はタプルを生成するのに丸括弧を省略することができます。よって下の2つの例は同じコードとみなすことができます。"
      ]
    },
    {
      "cell_type": "code",
      "metadata": {
        "id": "KiAX1O1vdwGT"
      },
      "source": [
        "# 例1\n",
        "(x, y, z) = (1, 2.0, \"3\")\n",
        "x"
      ],
      "execution_count": null,
      "outputs": []
    },
    {
      "cell_type": "code",
      "metadata": {
        "id": "Xo73eir5dwGT"
      },
      "source": [
        "# 例2\n",
        "x, y, z = 1, 2.0, \"3\"\n",
        "x"
      ],
      "execution_count": null,
      "outputs": []
    },
    {
      "cell_type": "markdown",
      "metadata": {
        "id": "372MsJP3dwGU"
      },
      "source": [
        "例2は複数の値を複数の変数にそれぞれ代入していると考えることもできます。これを**多重代入**と言います。関連する用語に**パック**や**アンパック**というものがありますが、ここでは用語の紹介に留めておきます。より発展的な内容を学びたい人は調べてみると良いでしょう。"
      ]
    },
    {
      "cell_type": "markdown",
      "metadata": {
        "id": "TynVhjf7dwGU"
      },
      "source": [
        "#### dict型(辞書)"
      ]
    },
    {
      "cell_type": "markdown",
      "metadata": {
        "id": "9B5u6VgkdwGU"
      },
      "source": [
        "辞書はリストの各要素に**キー**と呼ばれるラベルをつけたもので、他のプログラミング言語では**連想配列**と呼ばれています。Pythonでは`{ <キー>: <値>, ...}`という形式で辞書を作ることができます。"
      ]
    },
    {
      "cell_type": "code",
      "metadata": {
        "id": "PgNNF_SPdwGU"
      },
      "source": [
        "# 辞書\n",
        "{\"a\": 1, \"b\": 2, \"c\": 3}"
      ],
      "execution_count": null,
      "outputs": []
    },
    {
      "cell_type": "markdown",
      "metadata": {
        "id": "KNTP5c1qdwGU"
      },
      "source": [
        "リストではインデックスによって各要素にアクセスしていたのに対し、辞書ではキーを使って値にアクセスします。リストと同様に、要素の参照および代入を行うことができます。"
      ]
    },
    {
      "cell_type": "code",
      "metadata": {
        "id": "jih9qR4HdwGU"
      },
      "source": [
        "# 要素の参照\n",
        "x = {\"a\": 1, \"b\": 2, \"c\": 3}\n",
        "x[\"a\"]"
      ],
      "execution_count": null,
      "outputs": []
    },
    {
      "cell_type": "code",
      "metadata": {
        "id": "cHduCo_bdwGU"
      },
      "source": [
        "# 要素の代入\n",
        "x = {\"a\": 1, \"b\": 2, \"c\": 3}\n",
        "x[\"b\"] = 10\n",
        "x"
      ],
      "execution_count": null,
      "outputs": []
    },
    {
      "cell_type": "markdown",
      "metadata": {
        "id": "gdewFNeOdwGU"
      },
      "source": [
        "なお、辞書にないキーに対して代入を行うと、それが新しいキーとして登録されます。"
      ]
    },
    {
      "cell_type": "code",
      "metadata": {
        "id": "XH7tfSk3dwGU"
      },
      "source": [
        "# 要素の代入\n",
        "x = {\"a\": 1, \"b\": 2, \"c\": 3}\n",
        "x[\"d\"] = 4\n",
        "x"
      ],
      "execution_count": null,
      "outputs": []
    },
    {
      "cell_type": "markdown",
      "metadata": {
        "id": "NylOSjBCdwGV"
      },
      "source": [
        "辞書からキー全体を取得したり、要素全体を取得したりするための手段も用意されています。辞書の`keys`メソッドおよび`values`メソッドを利用します。(メソッドについては次項のクラスのところで学びます。)"
      ]
    },
    {
      "cell_type": "code",
      "metadata": {
        "id": "sHn6-16CdwGV"
      },
      "source": [
        "# キーの取得\n",
        "x = {\"a\": 1, \"b\": 2, \"c\": 3}\n",
        "x.keys()"
      ],
      "execution_count": null,
      "outputs": []
    },
    {
      "cell_type": "code",
      "metadata": {
        "id": "4lJGtNyUdwGV"
      },
      "source": [
        "# 要素の取得\n",
        "x = {\"a\": 1, \"b\": 2, \"c\": 3}\n",
        "x.values()"
      ],
      "execution_count": null,
      "outputs": []
    },
    {
      "cell_type": "markdown",
      "metadata": {
        "id": "wtifj_TSdwGV"
      },
      "source": [
        "### 1.2.8 練習問題"
      ]
    },
    {
      "cell_type": "markdown",
      "metadata": {
        "id": "MHmHokQLdwGV"
      },
      "source": [
        "(1) 変数`x`に整数が格納されているとします。`x`が偶数ならば0、奇数ならば1を返すプログラムを作成してください。"
      ]
    },
    {
      "cell_type": "code",
      "metadata": {
        "id": "wkwcZtkgdwGV"
      },
      "source": [
        "# 入力例\n",
        "x = 1"
      ],
      "execution_count": null,
      "outputs": []
    },
    {
      "cell_type": "code",
      "metadata": {
        "id": "0sp23u8PdwGV"
      },
      "source": [
        "# write me!"
      ],
      "execution_count": null,
      "outputs": []
    },
    {
      "cell_type": "markdown",
      "metadata": {
        "id": "6aH4jviHdwGV"
      },
      "source": [
        "(2) 要素がすべて整数値であって、長さが1以上のリストが変数`x`に格納されているとします。`x`の要素の中で最も大きい要素を返すプログラムを作成してください。ただし、`max`関数などは使用せず、ループで実現してください。"
      ]
    },
    {
      "cell_type": "code",
      "metadata": {
        "id": "NW6k_prcdwGV"
      },
      "source": [
        "# 入力例\n",
        "x = [1, 2, 3]"
      ],
      "execution_count": null,
      "outputs": []
    },
    {
      "cell_type": "code",
      "metadata": {
        "id": "uXpxdsy0dwGW"
      },
      "source": [
        "# write me!"
      ],
      "execution_count": null,
      "outputs": []
    },
    {
      "cell_type": "markdown",
      "metadata": {
        "id": "V6KHVnWAdwGW"
      },
      "source": [
        "(3) 長さが1以上の文字列を引数`x`とし、`x`の最後の1文字を返す関数`f`を定義してください。"
      ]
    },
    {
      "cell_type": "code",
      "metadata": {
        "id": "eQa_xyVNdwGW"
      },
      "source": [
        "# write me!"
      ],
      "execution_count": null,
      "outputs": []
    },
    {
      "cell_type": "markdown",
      "metadata": {
        "id": "eJchf6P1dwGW"
      },
      "source": [
        "(4) 辞書を引数`x`とし、`x`に格納されているキーの数を返す関数`f`を定義してください。"
      ]
    },
    {
      "cell_type": "code",
      "metadata": {
        "id": "IMRgaWwzdwGW"
      },
      "source": [
        "# write me!"
      ],
      "execution_count": null,
      "outputs": []
    },
    {
      "cell_type": "markdown",
      "metadata": {
        "id": "PFAi6OzJdwGX"
      },
      "source": [
        "(5) リストを引数`x`とし、`x`の要素を逆順に並べたリストを返す関数`f`を定義してください。ただし、`reversed`関数などは使用せず、ループやリストのスライスで実現してください。"
      ]
    },
    {
      "cell_type": "code",
      "metadata": {
        "id": "AWtChriJdwGX"
      },
      "source": [
        "# write me!"
      ],
      "execution_count": null,
      "outputs": []
    },
    {
      "cell_type": "markdown",
      "metadata": {
        "id": "VAT6eoOJdwGX"
      },
      "source": [
        "## 1.3 Python文法(発展)"
      ]
    },
    {
      "cell_type": "markdown",
      "metadata": {
        "id": "u27KPgb4dwGX"
      },
      "source": [
        "### 1.3.1 クラス"
      ]
    },
    {
      "cell_type": "markdown",
      "metadata": {
        "id": "YVq1awDYdwGX"
      },
      "source": [
        "Pythonでプログラミングをする上で知っておきたいのが**オブジェクト指向**の概念です。オブジェクト指向について理解するために、まずはオブジェクトという言葉の定義を見てみましょう。以下はPythonドキュメントからの引用です。\n",
        "\n",
        "> Python における オブジェクト (object) とは、データを抽象的に表したものです。Python プログラムにおけるデータは全て、オブジェクトまたはオブジェクト間の関係として表されます。(ある意味では、プログラムコードもまたオブジェクトとして表されます。これはフォン・ノイマン: Von Neumann の \"プログラム記憶方式コンピュータ: stored program computer\" のモデルに適合します。)\n",
        "<br><br>\n",
        "https://docs.python.org/ja/3.8/reference/datamodel.html\n",
        "\n",
        "すべてのオブジェクトには**型**が定義されており、それがオブジェクトに対して実行可能な操作を決めています。例えば`len`関数はリストに対しては実行可能ですが、数値に対しては実行可能ではありません。型はオブジェクトが生成されてから破壊されるまで変更することはできません。\n",
        "\n",
        "また、オブジェクトは**属性**と**メソッド**というものを持っています。属性はそのオブジェクトに固有な性質で、メソッドはそのオブジェクトに対する操作です。同じ型のオブジェクトではメソッドは共通していますが、属性はそれぞれ異なっています。\n",
        "オブジェクトについて考えるとき、現実世界の例を挙げると理解しやすいでしょう。例えば、「人間」をオブジェクトとして見たとき、「名前」「年齢」は属性であり、「歩く」「考える」という動作はメソッドであると考えることができます。\n",
        "\n",
        "オブジェクト指向とは、その名の通り「プログラムをオブジェクト中心に考える」というものです。オブジェクトに定義されたメソッドを通してオブジェクトを操作し、プログラムを構成していくものです。一口に「オブジェクト中心に考える」と言っても、その背景には**カプセル化**、**継承**、**ポリモーフィズム**といった概念があります。少し難しい内容が含まれているのでここでは説明しませんが、参考になる記事はたくさんあるので調べてみるといいと思います。"
      ]
    },
    {
      "cell_type": "markdown",
      "metadata": {
        "id": "cBdBwVi5dwGX"
      },
      "source": [
        "それでは、オブジェクト指向の中心となる**クラス**の機能について見ていきましょう。\n",
        "\n",
        "クラスは新しいデータ型を定義するための設計図のようなものです。この設計図にはデータ型(属性)に関する定義とそのデータに対する処理(メソッド)に関する定義が書かれています。そして、この設計図をもとにオブジェクトを生成することができます。そのオブジェクトはクラス(設計図)に書かれていた属性・メソッドを持ち、メソッドを呼び出すことで自身または他のオブジェクトに影響を与えます。Pythonではクラスから生成されたオブジェクトのことを**インスタンス**と呼んでいます。\n",
        "\n",
        "クラス(設計図)の作り方は以下のようになります。\n",
        "\n",
        "```python\n",
        "class <クラス名>\n",
        "    def <メソッド名>:\n",
        "        <処理>\n",
        "    ......\n",
        "```"
      ]
    },
    {
      "cell_type": "code",
      "metadata": {
        "id": "gNf-6XItdwGX"
      },
      "source": [
        "# クラス定義の例\n",
        "class Klass:\n",
        "    def __init__(self):\n",
        "        self.attribute = None\n",
        "    def method(self, argument):\n",
        "        self.attribute = argument\n",
        "#     def __del__(self):\n",
        "#         print(\"delete\")"
      ],
      "execution_count": null,
      "outputs": []
    },
    {
      "cell_type": "markdown",
      "metadata": {
        "id": "5FALDNy6dwGY"
      },
      "source": [
        "上のクラス定義を使って説明します。クラス`Klass`は1つの(インスタンス)属性と3つの(インスタンス)メソッドが定義されています。`def`によって定義されているのがインスタンスメソッドです。その中にある`self.<名前>`というものがインスタンス属性です。この`self`は生成されたインスタンス自身を指しており、インスタンスメソッドはこれを第1引数としてとることが要求されます。\n",
        "`__init__`メソッドと`__del__`メソッドは特別な働きをするメソッドです。`__init__`メソッドはインスタンス生成時に実行されるメソッドで、**コンストラクタ**と呼ばれています。`__del__`メソッドはインスタンス破壊時に実行されるメソッドで、**デストラクタ**と呼ばれています。インスタンス属性を初期化するのにコンストラクタを利用するのが一般的です。それに対してデストラクタは定義しないことがほとんどです。\n",
        "\n",
        "次に、定義したクラスの利用例を以下に示します。インスタンスメソッドを定義するときには第1引数に`self`を与えましたが、呼び出すときにはその必要はない(厳密には`<インスタンス名>.<メソッド名>`で指定したインスタンスが`self`として与えられている)ということに注意しましょう。\n",
        "\n",
        "- インスタンスの生成　　　　　　　 `<クラス名>(<引数>......)`\n",
        "- インスタンス属性へのアクセス　　 `<インスタンス名>.<属性名>`\n",
        "- インスタンスメソッドへのアクセス `<インスタンス名>.<メソッド名>`"
      ]
    },
    {
      "cell_type": "code",
      "metadata": {
        "id": "EAZNFpDSdwGY"
      },
      "source": [
        "# クラスの利用例\n",
        "instance_a = Klass()\n",
        "instance_b = Klass()\n",
        "print(\"instance_a : \", instance_a.attribute)\n",
        "print(\"instance_b : \", instance_b.attribute)\n",
        "\n",
        "instance_a.method(0)\n",
        "print(\"instance_a : \", instance_a.attribute)\n",
        "print(\"instance_b : \", instance_b.attribute)\n",
        "\n",
        "instance_b.method(1)\n",
        "print(\"instance_a : \", instance_a.attribute)\n",
        "print(\"instance_b : \", instance_b.attribute)"
      ],
      "execution_count": null,
      "outputs": []
    },
    {
      "cell_type": "markdown",
      "metadata": {
        "id": "VtoyaEmXdwGY"
      },
      "source": [
        "利用例から、属性は各インスタンスで独立であり、あるインスタンス`instance_b`の属性に対する変更は他のインスタンス`instance_a`に影響していないことがわかります。なお、メソッドを呼び出す前の`attribute`属性の値はコンストラクタで初期化されたものになっています。"
      ]
    },
    {
      "cell_type": "markdown",
      "metadata": {
        "id": "bqaY0YEMdwGY"
      },
      "source": [
        "クラスの実用的な例としてカウンタを実装します。このように、内部状態を持つものについてはクラスで実装するのが良いでしょう。"
      ]
    },
    {
      "cell_type": "code",
      "metadata": {
        "id": "JWLIPjb-dwGY"
      },
      "source": [
        "class Counter:\n",
        "    def __init__(self):\n",
        "        self.cnt = 0\n",
        "    def count(self):\n",
        "        self.cnt = self.cnt + 1\n",
        "    def get(self):\n",
        "        return self.cnt\n",
        "    def set(self, n):\n",
        "        self.cnt = n\n",
        "\n",
        "x = Counter()\n",
        "x.count()\n",
        "x.count()\n",
        "x.get()"
      ],
      "execution_count": null,
      "outputs": []
    },
    {
      "cell_type": "markdown",
      "metadata": {
        "id": "vSNWB8xadwGZ"
      },
      "source": [
        "前節で紹介したデータ型のオブジェクトは、Pythonであらかじめ定義されているクラスから生成されたものです。そのため、それぞれのデータ型に特有なメソッドを利用することができます。以下にその例を示します。"
      ]
    },
    {
      "cell_type": "code",
      "metadata": {
        "id": "BkDLN5nAdwGZ"
      },
      "source": [
        "# 部分文字列の検索\n",
        "x = \"abcdefg\"\n",
        "x.find(\"de\")"
      ],
      "execution_count": null,
      "outputs": []
    },
    {
      "cell_type": "code",
      "metadata": {
        "id": "0DAJVW8edwGa"
      },
      "source": [
        "# 文字列の結合\n",
        "x = [\"a\", \"b\", \"c\"]\n",
        "\",\".join(x)"
      ],
      "execution_count": null,
      "outputs": []
    },
    {
      "cell_type": "code",
      "metadata": {
        "id": "84zcB-lKdwGa"
      },
      "source": [
        "# 文字列の分割\n",
        "x = \"a,b,c\"\n",
        "x.split(\",\")"
      ],
      "execution_count": null,
      "outputs": []
    },
    {
      "cell_type": "code",
      "metadata": {
        "id": "EnZW7YLsdwGa"
      },
      "source": [
        "# リストへの要素の追加\n",
        "x = [1, 2, 3]\n",
        "x.append(4)\n",
        "x"
      ],
      "execution_count": null,
      "outputs": []
    },
    {
      "cell_type": "code",
      "metadata": {
        "id": "kCDHYBlWdwGa"
      },
      "source": [
        "# リストのソート\n",
        "x = [2, 4, 1, 3]\n",
        "x.sort()\n",
        "x"
      ],
      "execution_count": null,
      "outputs": []
    },
    {
      "cell_type": "code",
      "metadata": {
        "id": "eSAa86WLdwGa"
      },
      "source": [
        "# リストの反転\n",
        "x = [1, 2, 3]\n",
        "x.reverse()\n",
        "x"
      ],
      "execution_count": null,
      "outputs": []
    },
    {
      "cell_type": "code",
      "metadata": {
        "id": "1ByGi0CldwGa"
      },
      "source": [
        "# 辞書のキー・値のペアの取得\n",
        "x = {\"a\": 1, \"b\": 2, \"c\": 3}\n",
        "x.items()"
      ],
      "execution_count": null,
      "outputs": []
    },
    {
      "cell_type": "markdown",
      "metadata": {
        "id": "1Zio8U8NdwGa"
      },
      "source": [
        "### 1.3.2 モジュール・ライブラリ"
      ]
    },
    {
      "cell_type": "markdown",
      "metadata": {
        "id": "8sgnoflOdwGa"
      },
      "source": [
        "プログラムを開発していると、他のプログラムファイルで定義した関数やクラスを使いたい、ということがあります。Pythonではそれを**モジュール**として取り込むことができます。モジュールは部品という意味で、通常1つのプログラムファイルを表します。\n",
        "\n",
        "モジュールを複数まとめたものを**パッケージ**と言い、さらにパッケージをまとめたものを**ライブラリ**と言います。この辺りの呼称は明確に決まっているわけではなく、モジュールやパッケージのことをライブラリと言うこともあるようです。以下では「モジュール」と「ライブラリ」という2つの用語を使いますが、それぞれ「1つのプログラムファイル」と「複数のプログラムファイルをまとめたもの」という意味であるとして読み進めてください。"
      ]
    },
    {
      "cell_type": "markdown",
      "metadata": {
        "id": "e5Jr-MY_dwGb"
      },
      "source": [
        "Pythonでは`import`することでモジュールを読み込むことができます。(同じディレクトリ内に存在する)プログラムファイル名を`example.py`とすると、下のように書きます。"
      ]
    },
    {
      "cell_type": "code",
      "metadata": {
        "id": "5GUyuJmddwGb"
      },
      "source": [
        "import example"
      ],
      "execution_count": null,
      "outputs": []
    },
    {
      "cell_type": "markdown",
      "metadata": {
        "id": "sqJpMAhUdwGb"
      },
      "source": [
        "`import`すると、そのプログラムファイルで定義された関数やクラスを利用することができます。試しに`example.py`で定義されている関数`f`を呼び出してみましょう。この関数`f`は恒等関数で、1つの引数を受け取ってそれをそのまま返します。"
      ]
    },
    {
      "cell_type": "code",
      "metadata": {
        "id": "OK4kJHURdwGb"
      },
      "source": [
        "example.f(2)"
      ],
      "execution_count": null,
      "outputs": []
    },
    {
      "cell_type": "markdown",
      "metadata": {
        "id": "ecqPxyiNdwGb"
      },
      "source": [
        "開発が進んでプログラムのサイズが大きくなってくると、それを細かい部品に分割して管理することが重要になります。機能ごとに関数およびクラスをまとめて別のファイルに切り出すことで、プログラムの見通しがよくなることが多いです。大きな開発をする際には心がけると良いでしょう。"
      ]
    },
    {
      "cell_type": "markdown",
      "metadata": {
        "id": "GXC8yLn7dwGb"
      },
      "source": [
        "続いてライブラリの話題に移ります。Pythonでは標準ライブラリというものが用意されており、様々な機能を利用することができます。標準ライブラリに含まれるモジュールの1つに、数学関数をまとめた`math`モジュールがあります。ここではそれを取り上げて説明します。"
      ]
    },
    {
      "cell_type": "markdown",
      "metadata": {
        "id": "X_Dj1pO8dwGb"
      },
      "source": [
        "`math`モジュールには指数関数、対数関数、三角関数などが定義されており、それを`import`することで利用できるようになります。実際に利用するときには`<モジュール名>.<変数名/関数名/クラス名>`とします。"
      ]
    },
    {
      "cell_type": "code",
      "metadata": {
        "id": "Z8RG7qHUdwGc"
      },
      "source": [
        "import math"
      ],
      "execution_count": null,
      "outputs": []
    },
    {
      "cell_type": "code",
      "metadata": {
        "id": "yzitsAQvdwGc"
      },
      "source": [
        "# 指数関数\n",
        "math.exp(1.0)"
      ],
      "execution_count": null,
      "outputs": []
    },
    {
      "cell_type": "code",
      "metadata": {
        "id": "2w3lCXDLdwGc"
      },
      "source": [
        "# 対数関数\n",
        "math.log(math.e)"
      ],
      "execution_count": null,
      "outputs": []
    },
    {
      "cell_type": "markdown",
      "metadata": {
        "id": "jITM6IkldwGc"
      },
      "source": [
        "`from <モジュール名> import <変数名/関数名/クラス名>`とすると、モジュール名なしに変数/関数/クラスを利用することができます。"
      ]
    },
    {
      "cell_type": "code",
      "metadata": {
        "id": "UPKRTZ34dwGd"
      },
      "source": [
        "from math import sin\n",
        "from math import cos\n",
        "from math import tan\n",
        "from math import pi"
      ],
      "execution_count": null,
      "outputs": []
    },
    {
      "cell_type": "code",
      "metadata": {
        "id": "rTYwym05dwGd"
      },
      "source": [
        "# 三角関数\n",
        "sin(pi)"
      ],
      "execution_count": null,
      "outputs": []
    },
    {
      "cell_type": "code",
      "metadata": {
        "id": "U1t-xAfBdwGd"
      },
      "source": [
        "# 三角関数\n",
        "cos(pi)"
      ],
      "execution_count": null,
      "outputs": []
    },
    {
      "cell_type": "code",
      "metadata": {
        "id": "YdRXAxHvdwGd"
      },
      "source": [
        "# 三角関数\n",
        "tan(pi)"
      ],
      "execution_count": null,
      "outputs": []
    },
    {
      "cell_type": "markdown",
      "metadata": {
        "id": "qwFNiy0MdwGd"
      },
      "source": [
        "Pythonが提供している標準ライブラリ以外にも、様々なライブラリが開発されて一般に公開されています。こうしたライブラリのことを(標準ライブラリと区別して)外部ライブラリと呼んでいます。Pythonは外部ライブラリが最も充実している言語の1つです。特に本講義で扱うデータ分析・機械学習のためのライブラリが充実しているため、機械学習を行うときに用いるプログラミング言語としてPythonを選ぶ人は多いです。外部ライブラリについては次以降のChapterで学習します。"
      ]
    },
    {
      "cell_type": "markdown",
      "metadata": {
        "id": "iCVPdKkfdwGe"
      },
      "source": [
        "## 1.4 総合問題"
      ]
    },
    {
      "cell_type": "markdown",
      "metadata": {
        "id": "2k2Yz4mrdwGe"
      },
      "source": [
        "(1) 与えられた自然数`n`に対して、それが素数であれば`True`、合成数であれば`False`を返す関数`is_prime`を定義してください。"
      ]
    },
    {
      "cell_type": "code",
      "metadata": {
        "id": "EvrtwrQ5dwGe"
      },
      "source": [
        "# write me!"
      ],
      "execution_count": null,
      "outputs": []
    },
    {
      "cell_type": "markdown",
      "metadata": {
        "id": "-ZKgNHjNdwGe"
      },
      "source": [
        "(2) 与えられた自然数`n`以下の素数をリストとして返す関数`primes`を定義してください。(1)を利用しても構いません。"
      ]
    },
    {
      "cell_type": "code",
      "metadata": {
        "id": "QORGam5RdwGe"
      },
      "source": [
        "# write me!"
      ],
      "execution_count": null,
      "outputs": []
    }
  ]
}